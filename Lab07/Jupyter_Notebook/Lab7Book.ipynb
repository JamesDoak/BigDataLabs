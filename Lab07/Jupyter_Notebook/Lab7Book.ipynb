{
 "cells": [
  {
   "cell_type": "markdown",
   "id": "9f48c916",
   "metadata": {},
   "source": [
    "# Lab 7 Tasks\n",
    "\n",
    "# Task 1 - Cardata.csv\n"
   ]
  },
  {
   "cell_type": "code",
   "execution_count": 1,
   "id": "d9ef0a39",
   "metadata": {},
   "outputs": [],
   "source": [
    "import numpy as np\n",
    "import pandas as pd\n",
    "import matplotlib.pyplot as plt\n",
    "import seaborn as sns\n",
    "\n",
    "sns.set(color_codes=True)\n",
    "\n",
    "%matplotlib inline"
   ]
  },
  {
   "cell_type": "code",
   "execution_count": 2,
   "id": "25df4c06",
   "metadata": {},
   "outputs": [
    {
     "name": "stdout",
     "output_type": "stream",
     "text": [
      "(11914, 12)\n"
     ]
    }
   ],
   "source": [
    "df = pd.read_csv('cardata.csv')\n",
    "print(df.shape)"
   ]
  },
  {
   "cell_type": "markdown",
   "id": "8fb379eb",
   "metadata": {},
   "source": [
    "So, there are 11914 rows and 12 columns in the cardata dataset."
   ]
  },
  {
   "cell_type": "markdown",
   "id": "1a6d176e",
   "metadata": {},
   "source": [
    "Show the first 5 rows of the dataframe:"
   ]
  },
  {
   "cell_type": "code",
   "execution_count": 3,
   "id": "dff32089",
   "metadata": {},
   "outputs": [
    {
     "data": {
      "text/html": [
       "<div>\n",
       "<style scoped>\n",
       "    .dataframe tbody tr th:only-of-type {\n",
       "        vertical-align: middle;\n",
       "    }\n",
       "\n",
       "    .dataframe tbody tr th {\n",
       "        vertical-align: top;\n",
       "    }\n",
       "\n",
       "    .dataframe thead th {\n",
       "        text-align: right;\n",
       "    }\n",
       "</style>\n",
       "<table border=\"1\" class=\"dataframe\">\n",
       "  <thead>\n",
       "    <tr style=\"text-align: right;\">\n",
       "      <th></th>\n",
       "      <th>Make</th>\n",
       "      <th>Model</th>\n",
       "      <th>Year</th>\n",
       "      <th>Engine HP</th>\n",
       "      <th>Engine Cylinders</th>\n",
       "      <th>Transmission Type</th>\n",
       "      <th>Driven Mode</th>\n",
       "      <th>Number of Doors</th>\n",
       "      <th>highway MPG</th>\n",
       "      <th>city mpg</th>\n",
       "      <th>Popularity</th>\n",
       "      <th>Price</th>\n",
       "    </tr>\n",
       "  </thead>\n",
       "  <tbody>\n",
       "    <tr>\n",
       "      <th>0</th>\n",
       "      <td>BMW</td>\n",
       "      <td>1 Series M</td>\n",
       "      <td>2011</td>\n",
       "      <td>335.0</td>\n",
       "      <td>6.0</td>\n",
       "      <td>MANUAL</td>\n",
       "      <td>rear wheel drive</td>\n",
       "      <td>2.0</td>\n",
       "      <td>26</td>\n",
       "      <td>19</td>\n",
       "      <td>3916</td>\n",
       "      <td>46135</td>\n",
       "    </tr>\n",
       "    <tr>\n",
       "      <th>1</th>\n",
       "      <td>BMW</td>\n",
       "      <td>1 Series</td>\n",
       "      <td>2011</td>\n",
       "      <td>300.0</td>\n",
       "      <td>6.0</td>\n",
       "      <td>MANUAL</td>\n",
       "      <td>rear wheel drive</td>\n",
       "      <td>2.0</td>\n",
       "      <td>28</td>\n",
       "      <td>19</td>\n",
       "      <td>3916</td>\n",
       "      <td>40650</td>\n",
       "    </tr>\n",
       "    <tr>\n",
       "      <th>2</th>\n",
       "      <td>BMW</td>\n",
       "      <td>1 Series</td>\n",
       "      <td>2011</td>\n",
       "      <td>300.0</td>\n",
       "      <td>6.0</td>\n",
       "      <td>MANUAL</td>\n",
       "      <td>rear wheel drive</td>\n",
       "      <td>2.0</td>\n",
       "      <td>28</td>\n",
       "      <td>20</td>\n",
       "      <td>3916</td>\n",
       "      <td>36350</td>\n",
       "    </tr>\n",
       "    <tr>\n",
       "      <th>3</th>\n",
       "      <td>BMW</td>\n",
       "      <td>1 Series</td>\n",
       "      <td>2011</td>\n",
       "      <td>230.0</td>\n",
       "      <td>6.0</td>\n",
       "      <td>MANUAL</td>\n",
       "      <td>rear wheel drive</td>\n",
       "      <td>2.0</td>\n",
       "      <td>28</td>\n",
       "      <td>18</td>\n",
       "      <td>3916</td>\n",
       "      <td>29450</td>\n",
       "    </tr>\n",
       "    <tr>\n",
       "      <th>4</th>\n",
       "      <td>BMW</td>\n",
       "      <td>1 Series</td>\n",
       "      <td>2011</td>\n",
       "      <td>230.0</td>\n",
       "      <td>6.0</td>\n",
       "      <td>MANUAL</td>\n",
       "      <td>rear wheel drive</td>\n",
       "      <td>2.0</td>\n",
       "      <td>28</td>\n",
       "      <td>18</td>\n",
       "      <td>3916</td>\n",
       "      <td>34500</td>\n",
       "    </tr>\n",
       "  </tbody>\n",
       "</table>\n",
       "</div>"
      ],
      "text/plain": [
       "  Make       Model  Year  Engine HP  Engine Cylinders Transmission Type  \\\n",
       "0  BMW  1 Series M  2011      335.0               6.0            MANUAL   \n",
       "1  BMW    1 Series  2011      300.0               6.0            MANUAL   \n",
       "2  BMW    1 Series  2011      300.0               6.0            MANUAL   \n",
       "3  BMW    1 Series  2011      230.0               6.0            MANUAL   \n",
       "4  BMW    1 Series  2011      230.0               6.0            MANUAL   \n",
       "\n",
       "        Driven Mode  Number of Doors  highway MPG  city mpg  Popularity  Price  \n",
       "0  rear wheel drive              2.0           26        19        3916  46135  \n",
       "1  rear wheel drive              2.0           28        19        3916  40650  \n",
       "2  rear wheel drive              2.0           28        20        3916  36350  \n",
       "3  rear wheel drive              2.0           28        18        3916  29450  \n",
       "4  rear wheel drive              2.0           28        18        3916  34500  "
      ]
     },
     "execution_count": 3,
     "metadata": {},
     "output_type": "execute_result"
    }
   ],
   "source": [
    "df.head(5)"
   ]
  },
  {
   "cell_type": "markdown",
   "id": "5facd919",
   "metadata": {},
   "source": [
    "**Check the datatypes**"
   ]
  },
  {
   "cell_type": "code",
   "execution_count": 4,
   "id": "edc27675",
   "metadata": {},
   "outputs": [
    {
     "name": "stdout",
     "output_type": "stream",
     "text": [
      "Make                  object\n",
      "Model                 object\n",
      "Year                   int64\n",
      "Engine HP            float64\n",
      "Engine Cylinders     float64\n",
      "Transmission Type     object\n",
      "Driven Mode           object\n",
      "Number of Doors      float64\n",
      "highway MPG            int64\n",
      "city mpg               int64\n",
      "Popularity             int64\n",
      "Price                  int64\n",
      "dtype: object\n"
     ]
    }
   ],
   "source": [
    "print(df.dtypes)"
   ]
  },
  {
   "cell_type": "markdown",
   "id": "df372e3f",
   "metadata": {},
   "source": [
    "**Check for duplicated rows - if there are, delete them**"
   ]
  },
  {
   "cell_type": "code",
   "execution_count": 5,
   "id": "fe4cef1f",
   "metadata": {},
   "outputs": [
    {
     "name": "stdout",
     "output_type": "stream",
     "text": [
      "Number of duplicate rows:  (886, 12)\n"
     ]
    }
   ],
   "source": [
    "duplicate_rows_df = df[df.duplicated()]\n",
    "print(\"Number of duplicate rows: \", duplicate_rows_df.shape)"
   ]
  },
  {
   "cell_type": "markdown",
   "id": "9f4070ce",
   "metadata": {},
   "source": [
    "Remove 886 rows of duplicate data then count the number of rows:\n"
   ]
  },
  {
   "cell_type": "code",
   "execution_count": 6,
   "id": "e8c0aaba",
   "metadata": {},
   "outputs": [
    {
     "data": {
      "text/plain": [
       "Make                 11028\n",
       "Model                11028\n",
       "Year                 11028\n",
       "Engine HP            10959\n",
       "Engine Cylinders     10998\n",
       "Transmission Type    11028\n",
       "Driven Mode          11028\n",
       "Number of Doors      11022\n",
       "highway MPG          11028\n",
       "city mpg             11028\n",
       "Popularity           11028\n",
       "Price                11028\n",
       "dtype: int64"
      ]
     },
     "execution_count": 6,
     "metadata": {},
     "output_type": "execute_result"
    }
   ],
   "source": [
    "df = df.drop_duplicates()\n",
    "df.count()"
   ]
  },
  {
   "cell_type": "markdown",
   "id": "a7fb9f8d",
   "metadata": {},
   "source": [
    "**Check if there are null values or missing values**\n"
   ]
  },
  {
   "cell_type": "code",
   "execution_count": 7,
   "id": "abda83d3",
   "metadata": {},
   "outputs": [
    {
     "name": "stdout",
     "output_type": "stream",
     "text": [
      "Make                  0\n",
      "Model                 0\n",
      "Year                  0\n",
      "Engine HP            69\n",
      "Engine Cylinders     30\n",
      "Transmission Type     0\n",
      "Driven Mode           0\n",
      "Number of Doors       6\n",
      "highway MPG           0\n",
      "city mpg              0\n",
      "Popularity            0\n",
      "Price                 0\n",
      "dtype: int64\n"
     ]
    }
   ],
   "source": [
    "print(df.isnull().sum())"
   ]
  },
  {
   "cell_type": "markdown",
   "id": "cab6d8c2",
   "metadata": {},
   "source": [
    "**Drop the null values**"
   ]
  },
  {
   "cell_type": "code",
   "execution_count": 8,
   "id": "253238cf",
   "metadata": {},
   "outputs": [
    {
     "name": "stdout",
     "output_type": "stream",
     "text": [
      "Make                 10929\n",
      "Model                10929\n",
      "Year                 10929\n",
      "Engine HP            10929\n",
      "Engine Cylinders     10929\n",
      "Transmission Type    10929\n",
      "Driven Mode          10929\n",
      "Number of Doors      10929\n",
      "highway MPG          10929\n",
      "city mpg             10929\n",
      "Popularity           10929\n",
      "Price                10929\n",
      "dtype: int64\n",
      "(10929, 12)\n"
     ]
    }
   ],
   "source": [
    "df = df.dropna()\n",
    "print(df.count())\n",
    "print(df.shape)"
   ]
  },
  {
   "cell_type": "markdown",
   "id": "6a418688",
   "metadata": {},
   "source": [
    "**Print a summary for the attribute statistics**"
   ]
  },
  {
   "cell_type": "code",
   "execution_count": 9,
   "id": "621d37fa",
   "metadata": {},
   "outputs": [
    {
     "name": "stdout",
     "output_type": "stream",
     "text": [
      "               Year     Engine HP  Engine Cylinders  Number of Doors  \\\n",
      "count  10929.000000  10929.000000      10929.000000     10929.000000   \n",
      "mean    2010.768780    253.367188          5.679477         3.449172   \n",
      "std        7.144636    109.969181          1.765286         0.875798   \n",
      "min     1990.000000     55.000000          0.000000         2.000000   \n",
      "25%     2007.000000    172.000000          4.000000         2.000000   \n",
      "50%     2015.000000    240.000000          6.000000         4.000000   \n",
      "75%     2016.000000    303.000000          6.000000         4.000000   \n",
      "max     2017.000000   1001.000000         16.000000         4.000000   \n",
      "\n",
      "        highway MPG      city mpg    Popularity         Price  \n",
      "count  10929.000000  10929.000000  10929.000000  1.092900e+04  \n",
      "mean      26.336719     19.346875   1557.566932  4.213557e+04  \n",
      "std        7.489187      6.625464   1448.307334  6.205717e+04  \n",
      "min       12.000000      7.000000      2.000000  2.000000e+03  \n",
      "25%       22.000000     16.000000    549.000000  2.169000e+04  \n",
      "50%       25.000000     18.000000   1385.000000  3.062000e+04  \n",
      "75%       30.000000     22.000000   2009.000000  4.310000e+04  \n",
      "max      354.000000    137.000000   5657.000000  2.065902e+06  \n"
     ]
    }
   ],
   "source": [
    "print(df.describe())"
   ]
  },
  {
   "cell_type": "markdown",
   "id": "7f24a56f",
   "metadata": {},
   "source": [
    "**Plot a bar chart for the 'make' variable**"
   ]
  },
  {
   "cell_type": "code",
   "execution_count": 11,
   "id": "c36576cb",
   "metadata": {},
   "outputs": [
    {
     "data": {
      "image/png": "[encoded data removed]",
      "text/plain": [
       "<Figure size 720x360 with 1 Axes>"
      ]
     },
     "metadata": {
      "needs_background": "light"
     },
     "output_type": "display_data"
    }
   ],
   "source": [
    "df.Make.value_counts().nlargest(40).plot(kind='bar', figsize=(10,5))\n",
    "plt.title(\"Number of cars by make\")\n",
    "plt.ylabel(\"Number of cars\")\n",
    "plt.xlabel(\"Make\");"
   ]
  },
  {
   "cell_type": "markdown",
   "id": "2a5e2be8",
   "metadata": {},
   "source": [
    "**Create a Histogram of Engine HP**"
   ]
  },
  {
   "cell_type": "code",
   "execution_count": 12,
   "id": "65fbc8c1",
   "metadata": {},
   "outputs": [
    {
     "data": {
      "image/png": "[encoded data removed]",
      "text/plain": [
       "<Figure size 432x288 with 1 Axes>"
      ]
     },
     "metadata": {
      "needs_background": "light"
     },
     "output_type": "display_data"
    }
   ],
   "source": [
    "plt.hist(df['Engine HP'], bins=20)\n",
    "plt.title(\"Histogram of Engine HP\")\n",
    "plt.ylabel(\"Number of Engine HP\")\n",
    "plt.xlabel(\"Value of Engine HP\");"
   ]
  },
  {
   "cell_type": "markdown",
   "id": "a5bbd057",
   "metadata": {},
   "source": [
    "**Calculate and visualise correlations using a Seaborn heat map**"
   ]
  },
  {
   "cell_type": "code",
   "execution_count": 13,
   "id": "1fe7d1f9",
   "metadata": {},
   "outputs": [
    {
     "name": "stdout",
     "output_type": "stream",
     "text": [
      "                      Year  Engine HP  Engine Cylinders  Number of Doors  \\\n",
      "Year              1.000000   0.327957         -0.037097         0.245177   \n",
      "Engine HP         0.327957   1.000000          0.788036        -0.136082   \n",
      "Engine Cylinders -0.037097   0.788036          1.000000        -0.153036   \n",
      "Number of Doors   0.245177  -0.136082         -0.153036         1.000000   \n",
      "highway MPG       0.272054  -0.421254         -0.612161         0.120556   \n",
      "city mpg          0.224110  -0.473772         -0.632701         0.140437   \n",
      "Popularity        0.085127   0.040507          0.039295        -0.060403   \n",
      "Price             0.203604   0.660307          0.555170        -0.148377   \n",
      "\n",
      "                  highway MPG  city mpg  Popularity     Price  \n",
      "Year                 0.272054  0.224110    0.085127  0.203604  \n",
      "Engine HP           -0.421254 -0.473772    0.040507  0.660307  \n",
      "Engine Cylinders    -0.612161 -0.632701    0.039295  0.555170  \n",
      "Number of Doors      0.120556  0.140437   -0.060403 -0.148377  \n",
      "highway MPG          1.000000  0.841519   -0.022937 -0.209936  \n",
      "city mpg             0.841519  1.000000   -0.005554 -0.234567  \n",
      "Popularity          -0.022937 -0.005554    1.000000 -0.048684  \n",
      "Price               -0.209936 -0.234567   -0.048684  1.000000  \n"
     ]
    },
    {
     "data": {
      "image/png": "[encoded data removed]",
      "text/plain": [
       "<Figure size 1440x720 with 2 Axes>"
      ]
     },
     "metadata": {
      "needs_background": "light"
     },
     "output_type": "display_data"
    }
   ],
   "source": [
    "plt.figure(figsize=(20,10))\n",
    "corl = df.corr()\n",
    "sns.heatmap(corl, cmap=\"BrBG\", annot=True)\n",
    "print(corl)"
   ]
  },
  {
   "cell_type": "markdown",
   "id": "a4a299b1",
   "metadata": {},
   "source": [
    "**Create a Scatter Plot**\n",
    "\n",
    "Plots are plotted between Engine HP and Price"
   ]
  },
  {
   "cell_type": "code",
   "execution_count": 17,
   "id": "12f74081",
   "metadata": {},
   "outputs": [
    {
     "data": {
      "image/png": "[encoded data removed]",
      "text/plain": [
       "<Figure size 720x432 with 1 Axes>"
      ]
     },
     "metadata": {
      "needs_background": "light"
     },
     "output_type": "display_data"
    }
   ],
   "source": [
    "fig, ax = plt.subplots(figsize=(10,6))\n",
    "ax.scatter(df['Engine HP'], df['Price'])\n",
    "ax.set_xlabel('Engine HP')\n",
    "ax.set_ylabel('Price')\n",
    "plt.show()\n"
   ]
  },
  {
   "cell_type": "markdown",
   "id": "b1196563",
   "metadata": {},
   "source": [
    "**Create another Scatter Plot**\n",
    "\n",
    "Plots are plotted between 'city mpg' and 'highway mpg'"
   ]
  },
  {
   "cell_type": "code",
   "execution_count": 19,
   "id": "72645cf2",
   "metadata": {},
   "outputs": [
    {
     "data": {
      "image/png": "[encoded data removed]",
      "text/plain": [
       "<Figure size 720x432 with 1 Axes>"
      ]
     },
     "metadata": {
      "needs_background": "light"
     },
     "output_type": "display_data"
    }
   ],
   "source": [
    "fig, ax = plt.subplots(figsize=(10,6))\n",
    "ax.scatter(df['city mpg'], df['highway MPG'])\n",
    "ax.set_xlabel('city mpg')\n",
    "ax.set_ylabel('highway MPG')\n",
    "plt.show()\n"
   ]
  },
  {
   "cell_type": "markdown",
   "id": "7de44669",
   "metadata": {},
   "source": [
    "# Task 2 - Diabetes"
   ]
  },
  {
   "cell_type": "markdown",
   "id": "0e52dcab",
   "metadata": {},
   "source": [
    "**Part 1**\n",
    "\n",
    "Load the ‘diabetes.csv’ dataset into Python as a Pandas DataFrame and check the\n",
    "number of rows and columns in the dataframe.\n",
    "(Hint: use the ‘header = None’ parameter in the read_csv function, because column\n",
    "names are not saved in the data file)"
   ]
  },
  {
   "cell_type": "markdown",
   "id": "bba4d151",
   "metadata": {},
   "source": [
    "**Imports**"
   ]
  },
  {
   "cell_type": "code",
   "execution_count": 20,
   "id": "a0ff3d91",
   "metadata": {},
   "outputs": [],
   "source": [
    "import numpy as np\n",
    "import pandas as pd\n",
    "import matplotlib.pyplot as plt\n",
    "import seaborn as sns\n",
    "\n",
    "sns.set(color_codes=True)\n",
    "%matplotlib inline"
   ]
  },
  {
   "cell_type": "markdown",
   "id": "95ea591f",
   "metadata": {},
   "source": [
    "**Import CSV file into the dataframe and check the amount of rows and columns**"
   ]
  },
  {
   "cell_type": "code",
   "execution_count": 68,
   "id": "35fc77da",
   "metadata": {},
   "outputs": [
    {
     "name": "stdout",
     "output_type": "stream",
     "text": [
      "(768, 9)\n"
     ]
    }
   ],
   "source": [
    "df = pd.read_csv('diabetes.csv', header=None)\n",
    "print(df.shape)"
   ]
  },
  {
   "cell_type": "markdown",
   "id": "0736330a",
   "metadata": {},
   "source": [
    "Headers:    \n",
    "• 0. Number of times pregnant.    \n",
    "• 1. Plasma glucose concentration a 2 hours in an oral glucose tolerance test.    \n",
    "• 2. Diastolic blood pressure (mm Hg).    \n",
    "• 3. Triceps skinfold thickness (mm).    \n",
    "• 4. 2-Hour serum insulin (mu U/ml).    \n",
    "• 5. Body mass index (weight in kg/(height in m)^2).    \n",
    "• 6. Diabetes pedigree function.    \n",
    "• 7. Age (years).    \n",
    "• 8. Class variable (0 or 1).    "
   ]
  },
  {
   "cell_type": "code",
   "execution_count": 69,
   "id": "e8df82d4",
   "metadata": {},
   "outputs": [
    {
     "data": {
      "text/html": [
       "<div>\n",
       "<style scoped>\n",
       "    .dataframe tbody tr th:only-of-type {\n",
       "        vertical-align: middle;\n",
       "    }\n",
       "\n",
       "    .dataframe tbody tr th {\n",
       "        vertical-align: top;\n",
       "    }\n",
       "\n",
       "    .dataframe thead th {\n",
       "        text-align: right;\n",
       "    }\n",
       "</style>\n",
       "<table border=\"1\" class=\"dataframe\">\n",
       "  <thead>\n",
       "    <tr style=\"text-align: right;\">\n",
       "      <th></th>\n",
       "      <th>0</th>\n",
       "      <th>1</th>\n",
       "      <th>2</th>\n",
       "      <th>3</th>\n",
       "      <th>4</th>\n",
       "      <th>5</th>\n",
       "      <th>6</th>\n",
       "      <th>7</th>\n",
       "      <th>8</th>\n",
       "    </tr>\n",
       "  </thead>\n",
       "  <tbody>\n",
       "    <tr>\n",
       "      <th>0</th>\n",
       "      <td>6</td>\n",
       "      <td>148</td>\n",
       "      <td>72</td>\n",
       "      <td>35</td>\n",
       "      <td>0</td>\n",
       "      <td>33.6</td>\n",
       "      <td>0.627</td>\n",
       "      <td>50</td>\n",
       "      <td>1</td>\n",
       "    </tr>\n",
       "    <tr>\n",
       "      <th>1</th>\n",
       "      <td>1</td>\n",
       "      <td>85</td>\n",
       "      <td>66</td>\n",
       "      <td>29</td>\n",
       "      <td>0</td>\n",
       "      <td>26.6</td>\n",
       "      <td>0.351</td>\n",
       "      <td>31</td>\n",
       "      <td>0</td>\n",
       "    </tr>\n",
       "  </tbody>\n",
       "</table>\n",
       "</div>"
      ],
      "text/plain": [
       "   0    1   2   3  4     5      6   7  8\n",
       "0  6  148  72  35  0  33.6  0.627  50  1\n",
       "1  1   85  66  29  0  26.6  0.351  31  0"
      ]
     },
     "execution_count": 69,
     "metadata": {},
     "output_type": "execute_result"
    }
   ],
   "source": [
    "df.head(2)"
   ]
  },
  {
   "cell_type": "markdown",
   "id": "be885244",
   "metadata": {},
   "source": [
    "767 rows and 9 columns."
   ]
  },
  {
   "cell_type": "markdown",
   "id": "9f3b889f",
   "metadata": {},
   "source": [
    "**Check the datatypes are correct**"
   ]
  },
  {
   "cell_type": "code",
   "execution_count": 26,
   "id": "e5d9550c",
   "metadata": {},
   "outputs": [
    {
     "name": "stdout",
     "output_type": "stream",
     "text": [
      "0      int64\n",
      "1      int64\n",
      "2      int64\n",
      "3      int64\n",
      "4      int64\n",
      "5    float64\n",
      "6    float64\n",
      "7      int64\n",
      "8      int64\n",
      "dtype: object\n"
     ]
    }
   ],
   "source": [
    "print(df.dtypes)"
   ]
  },
  {
   "cell_type": "markdown",
   "id": "1fdf0e1f",
   "metadata": {},
   "source": [
    "**Display the first 10 tows in the dataframe**"
   ]
  },
  {
   "cell_type": "code",
   "execution_count": 27,
   "id": "a11f8e58",
   "metadata": {},
   "outputs": [
    {
     "data": {
      "text/html": [
       "<div>\n",
       "<style scoped>\n",
       "    .dataframe tbody tr th:only-of-type {\n",
       "        vertical-align: middle;\n",
       "    }\n",
       "\n",
       "    .dataframe tbody tr th {\n",
       "        vertical-align: top;\n",
       "    }\n",
       "\n",
       "    .dataframe thead th {\n",
       "        text-align: right;\n",
       "    }\n",
       "</style>\n",
       "<table border=\"1\" class=\"dataframe\">\n",
       "  <thead>\n",
       "    <tr style=\"text-align: right;\">\n",
       "      <th></th>\n",
       "      <th>0</th>\n",
       "      <th>1</th>\n",
       "      <th>2</th>\n",
       "      <th>3</th>\n",
       "      <th>4</th>\n",
       "      <th>5</th>\n",
       "      <th>6</th>\n",
       "      <th>7</th>\n",
       "      <th>8</th>\n",
       "    </tr>\n",
       "  </thead>\n",
       "  <tbody>\n",
       "    <tr>\n",
       "      <th>0</th>\n",
       "      <td>6</td>\n",
       "      <td>148</td>\n",
       "      <td>72</td>\n",
       "      <td>35</td>\n",
       "      <td>0</td>\n",
       "      <td>33.6</td>\n",
       "      <td>0.627</td>\n",
       "      <td>50</td>\n",
       "      <td>1</td>\n",
       "    </tr>\n",
       "    <tr>\n",
       "      <th>1</th>\n",
       "      <td>1</td>\n",
       "      <td>85</td>\n",
       "      <td>66</td>\n",
       "      <td>29</td>\n",
       "      <td>0</td>\n",
       "      <td>26.6</td>\n",
       "      <td>0.351</td>\n",
       "      <td>31</td>\n",
       "      <td>0</td>\n",
       "    </tr>\n",
       "    <tr>\n",
       "      <th>2</th>\n",
       "      <td>8</td>\n",
       "      <td>183</td>\n",
       "      <td>64</td>\n",
       "      <td>0</td>\n",
       "      <td>0</td>\n",
       "      <td>23.3</td>\n",
       "      <td>0.672</td>\n",
       "      <td>32</td>\n",
       "      <td>1</td>\n",
       "    </tr>\n",
       "    <tr>\n",
       "      <th>3</th>\n",
       "      <td>1</td>\n",
       "      <td>89</td>\n",
       "      <td>66</td>\n",
       "      <td>23</td>\n",
       "      <td>94</td>\n",
       "      <td>28.1</td>\n",
       "      <td>0.167</td>\n",
       "      <td>21</td>\n",
       "      <td>0</td>\n",
       "    </tr>\n",
       "    <tr>\n",
       "      <th>4</th>\n",
       "      <td>0</td>\n",
       "      <td>137</td>\n",
       "      <td>40</td>\n",
       "      <td>35</td>\n",
       "      <td>168</td>\n",
       "      <td>43.1</td>\n",
       "      <td>2.288</td>\n",
       "      <td>33</td>\n",
       "      <td>1</td>\n",
       "    </tr>\n",
       "    <tr>\n",
       "      <th>5</th>\n",
       "      <td>5</td>\n",
       "      <td>116</td>\n",
       "      <td>74</td>\n",
       "      <td>0</td>\n",
       "      <td>0</td>\n",
       "      <td>25.6</td>\n",
       "      <td>0.201</td>\n",
       "      <td>30</td>\n",
       "      <td>0</td>\n",
       "    </tr>\n",
       "    <tr>\n",
       "      <th>6</th>\n",
       "      <td>3</td>\n",
       "      <td>78</td>\n",
       "      <td>50</td>\n",
       "      <td>32</td>\n",
       "      <td>88</td>\n",
       "      <td>31.0</td>\n",
       "      <td>0.248</td>\n",
       "      <td>26</td>\n",
       "      <td>1</td>\n",
       "    </tr>\n",
       "    <tr>\n",
       "      <th>7</th>\n",
       "      <td>10</td>\n",
       "      <td>115</td>\n",
       "      <td>0</td>\n",
       "      <td>0</td>\n",
       "      <td>0</td>\n",
       "      <td>35.3</td>\n",
       "      <td>0.134</td>\n",
       "      <td>29</td>\n",
       "      <td>0</td>\n",
       "    </tr>\n",
       "    <tr>\n",
       "      <th>8</th>\n",
       "      <td>2</td>\n",
       "      <td>197</td>\n",
       "      <td>70</td>\n",
       "      <td>45</td>\n",
       "      <td>543</td>\n",
       "      <td>30.5</td>\n",
       "      <td>0.158</td>\n",
       "      <td>53</td>\n",
       "      <td>1</td>\n",
       "    </tr>\n",
       "    <tr>\n",
       "      <th>9</th>\n",
       "      <td>8</td>\n",
       "      <td>125</td>\n",
       "      <td>96</td>\n",
       "      <td>0</td>\n",
       "      <td>0</td>\n",
       "      <td>0.0</td>\n",
       "      <td>0.232</td>\n",
       "      <td>54</td>\n",
       "      <td>1</td>\n",
       "    </tr>\n",
       "  </tbody>\n",
       "</table>\n",
       "</div>"
      ],
      "text/plain": [
       "    0    1   2   3    4     5      6   7  8\n",
       "0   6  148  72  35    0  33.6  0.627  50  1\n",
       "1   1   85  66  29    0  26.6  0.351  31  0\n",
       "2   8  183  64   0    0  23.3  0.672  32  1\n",
       "3   1   89  66  23   94  28.1  0.167  21  0\n",
       "4   0  137  40  35  168  43.1  2.288  33  1\n",
       "5   5  116  74   0    0  25.6  0.201  30  0\n",
       "6   3   78  50  32   88  31.0  0.248  26  1\n",
       "7  10  115   0   0    0  35.3  0.134  29  0\n",
       "8   2  197  70  45  543  30.5  0.158  53  1\n",
       "9   8  125  96   0    0   0.0  0.232  54  1"
      ]
     },
     "execution_count": 27,
     "metadata": {},
     "output_type": "execute_result"
    }
   ],
   "source": [
    "df.head(10)"
   ]
  },
  {
   "cell_type": "markdown",
   "id": "78b025d4",
   "metadata": {},
   "source": [
    "**Check for duplicate rows**"
   ]
  },
  {
   "cell_type": "code",
   "execution_count": 28,
   "id": "37b6b418",
   "metadata": {},
   "outputs": [
    {
     "name": "stdout",
     "output_type": "stream",
     "text": [
      "There are  (0, 9)  duplicates.\n"
     ]
    }
   ],
   "source": [
    "duplicate_rows_df = df[df.duplicated()]\n",
    "print(\"There are \", duplicate_rows_df.shape, \" duplicates.\")"
   ]
  },
  {
   "cell_type": "markdown",
   "id": "a46e05a8",
   "metadata": {},
   "source": [
    "**Drop the duplicates**"
   ]
  },
  {
   "cell_type": "code",
   "execution_count": 29,
   "id": "bcecf116",
   "metadata": {},
   "outputs": [
    {
     "data": {
      "text/plain": [
       "0    768\n",
       "1    768\n",
       "2    768\n",
       "3    768\n",
       "4    768\n",
       "5    768\n",
       "6    768\n",
       "7    768\n",
       "8    768\n",
       "dtype: int64"
      ]
     },
     "execution_count": 29,
     "metadata": {},
     "output_type": "execute_result"
    }
   ],
   "source": [
    "df = df.drop_duplicates()\n",
    "df.count()"
   ]
  },
  {
   "cell_type": "markdown",
   "id": "00e1f857",
   "metadata": {},
   "source": [
    "**Print a summary statistics on attributes**"
   ]
  },
  {
   "cell_type": "code",
   "execution_count": 31,
   "id": "fef64917",
   "metadata": {},
   "outputs": [
    {
     "name": "stdout",
     "output_type": "stream",
     "text": [
      "                0           1           2           3           4           5  \\\n",
      "count  768.000000  768.000000  768.000000  768.000000  768.000000  768.000000   \n",
      "mean     3.845052  120.894531   69.105469   20.536458   79.799479   31.992578   \n",
      "std      3.369578   31.972618   19.355807   15.952218  115.244002    7.884160   \n",
      "min      0.000000    0.000000    0.000000    0.000000    0.000000    0.000000   \n",
      "25%      1.000000   99.000000   62.000000    0.000000    0.000000   27.300000   \n",
      "50%      3.000000  117.000000   72.000000   23.000000   30.500000   32.000000   \n",
      "75%      6.000000  140.250000   80.000000   32.000000  127.250000   36.600000   \n",
      "max     17.000000  199.000000  122.000000   99.000000  846.000000   67.100000   \n",
      "\n",
      "                6           7           8  \n",
      "count  768.000000  768.000000  768.000000  \n",
      "mean     0.471876   33.240885    0.348958  \n",
      "std      0.331329   11.760232    0.476951  \n",
      "min      0.078000   21.000000    0.000000  \n",
      "25%      0.243750   24.000000    0.000000  \n",
      "50%      0.372500   29.000000    0.000000  \n",
      "75%      0.626250   41.000000    1.000000  \n",
      "max      2.420000   81.000000    1.000000  \n"
     ]
    }
   ],
   "source": [
    "print(df.describe())"
   ]
  },
  {
   "cell_type": "markdown",
   "id": "9a6b1ce5",
   "metadata": {},
   "source": [
    "**Check for nulls**"
   ]
  },
  {
   "cell_type": "code",
   "execution_count": 30,
   "id": "131e2498",
   "metadata": {},
   "outputs": [
    {
     "name": "stdout",
     "output_type": "stream",
     "text": [
      "0    0\n",
      "1    0\n",
      "2    0\n",
      "3    0\n",
      "4    0\n",
      "5    0\n",
      "6    0\n",
      "7    0\n",
      "8    0\n",
      "dtype: int64\n"
     ]
    }
   ],
   "source": [
    "print(df.isnull().sum())"
   ]
  },
  {
   "cell_type": "markdown",
   "id": "8d1e2798",
   "metadata": {},
   "source": [
    "Zero nulls, all is well in love and war."
   ]
  },
  {
   "cell_type": "markdown",
   "id": "cf5b03f9",
   "metadata": {},
   "source": [
    "**Check for '0' values - these are effectively nulls**"
   ]
  },
  {
   "cell_type": "code",
   "execution_count": 33,
   "id": "1cd9bed2",
   "metadata": {},
   "outputs": [
    {
     "name": "stdout",
     "output_type": "stream",
     "text": [
      "1      5\n",
      "2     35\n",
      "3    227\n",
      "4    374\n",
      "5     11\n",
      "dtype: int64\n"
     ]
    }
   ],
   "source": [
    "print((df[[1,2,3,4,5]] == 0).sum())"
   ]
  },
  {
   "cell_type": "markdown",
   "id": "303e816e",
   "metadata": {},
   "source": [
    "**Replace '0' values with 'NaN', so they can be removed**"
   ]
  },
  {
   "cell_type": "code",
   "execution_count": 77,
   "id": "200e0880",
   "metadata": {},
   "outputs": [
    {
     "name": "stdout",
     "output_type": "stream",
     "text": [
      "0      0\n",
      "1      5\n",
      "2     35\n",
      "3    227\n",
      "4    374\n",
      "5     11\n",
      "6      0\n",
      "7      0\n",
      "8      0\n",
      "dtype: int64\n",
      "    0      1     2     3      4     5      6   7  8\n",
      "0   6  148.0  72.0  35.0    NaN  33.6  0.627  50  1\n",
      "1   1   85.0  66.0  29.0    NaN  26.6  0.351  31  0\n",
      "2   8  183.0  64.0   NaN    NaN  23.3  0.672  32  1\n",
      "3   1   89.0  66.0  23.0   94.0  28.1  0.167  21  0\n",
      "4   0  137.0  40.0  35.0  168.0  43.1  2.288  33  1\n",
      "5   5  116.0  74.0   NaN    NaN  25.6  0.201  30  0\n",
      "6   3   78.0  50.0  32.0   88.0  31.0  0.248  26  1\n",
      "7  10  115.0   NaN   NaN    NaN  35.3  0.134  29  0\n",
      "8   2  197.0  70.0  45.0  543.0  30.5  0.158  53  1\n",
      "9   8  125.0  96.0   NaN    NaN   NaN  0.232  54  1\n"
     ]
    }
   ],
   "source": [
    "df[[1,2,3,4,5]] = df[[1,2,3,4,5]].replace(0, np.NaN)\n",
    "print(df.isnull().sum())\n",
    "print(df.head(10))"
   ]
  },
  {
   "cell_type": "markdown",
   "id": "7893aa45",
   "metadata": {},
   "source": [
    "As we can see, '0' values have been replaced with 'NaN'"
   ]
  },
  {
   "cell_type": "markdown",
   "id": "c69546e4",
   "metadata": {},
   "source": [
    "\n",
    "The simplest strategy for handling missing data is to remove records that contain a\n",
    "missing value. You can use dropna() to remove all rows with missing data as in task\n",
    "1. However, normally, this method is use only when the percentage of samples with\n",
    "missing values is low (i.e., less than 5%). If the missing value percentage is high,\n",
    "imputation could be a better option."
   ]
  },
  {
   "cell_type": "markdown",
   "id": "94f72982",
   "metadata": {},
   "source": [
    "**Fill the missing values with the mean column values**    \n",
    "**Check if there are still any NaN's in the DF**    \n",
    "**Check the imputed 10 rows of data**    "
   ]
  },
  {
   "cell_type": "code",
   "execution_count": 78,
   "id": "4559dc55",
   "metadata": {},
   "outputs": [
    {
     "name": "stdout",
     "output_type": "stream",
     "text": [
      "0    0\n",
      "1    0\n",
      "2    0\n",
      "3    0\n",
      "4    0\n",
      "5    0\n",
      "6    0\n",
      "7    0\n",
      "8    0\n",
      "dtype: int64\n",
      "    0      1          2         3           4          5      6   7  8\n",
      "0   6  148.0  72.000000  35.00000  155.548223  33.600000  0.627  50  1\n",
      "1   1   85.0  66.000000  29.00000  155.548223  26.600000  0.351  31  0\n",
      "2   8  183.0  64.000000  29.15342  155.548223  23.300000  0.672  32  1\n",
      "3   1   89.0  66.000000  23.00000   94.000000  28.100000  0.167  21  0\n",
      "4   0  137.0  40.000000  35.00000  168.000000  43.100000  2.288  33  1\n",
      "5   5  116.0  74.000000  29.15342  155.548223  25.600000  0.201  30  0\n",
      "6   3   78.0  50.000000  32.00000   88.000000  31.000000  0.248  26  1\n",
      "7  10  115.0  72.405184  29.15342  155.548223  35.300000  0.134  29  0\n",
      "8   2  197.0  70.000000  45.00000  543.000000  30.500000  0.158  53  1\n",
      "9   8  125.0  96.000000  29.15342  155.548223  32.457464  0.232  54  1\n"
     ]
    }
   ],
   "source": [
    "df.fillna(df.mean(), inplace=True)\n",
    "print(df.isnull().sum())\n",
    "print(df.head(10))"
   ]
  },
  {
   "cell_type": "markdown",
   "id": "c0698e11",
   "metadata": {},
   "source": [
    "**Plot a histogram showing plasma glucose concentration with an index of 1**"
   ]
  },
  {
   "cell_type": "code",
   "execution_count": 79,
   "id": "db108c8d",
   "metadata": {},
   "outputs": [
    {
     "data": {
      "image/png": "[encoded data removed]",
      "text/plain": [
       "<Figure size 432x288 with 1 Axes>"
      ]
     },
     "metadata": {
      "needs_background": "light"
     },
     "output_type": "display_data"
    }
   ],
   "source": [
    "plt.figure(0)\n",
    "plt.hist(df[1], bins=20)\n",
    "plt.title(\"Histogram of Plasma Glucose Concentration\")\n",
    "plt.xlabel('Number of Plasma Glucose Concentration')\n",
    "plt.ylabel('Value of Plasma Glucose Concentration');"
   ]
  },
  {
   "cell_type": "markdown",
   "id": "cefbec13",
   "metadata": {},
   "source": [
    "**Plot a histogram showing the Body Mass Index, with an index of 5**"
   ]
  },
  {
   "cell_type": "code",
   "execution_count": 80,
   "id": "6e5249c6",
   "metadata": {},
   "outputs": [
    {
     "data": {
      "image/png": "[encoded data removed]",
      "text/plain": [
       "<Figure size 432x288 with 1 Axes>"
      ]
     },
     "metadata": {
      "needs_background": "light"
     },
     "output_type": "display_data"
    }
   ],
   "source": [
    "plt.figure(0)\n",
    "plt.hist(df[5], bins=20)\n",
    "plt.title(\"Histogram of Body Mass Indexes\")\n",
    "plt.xlabel('Number of Body Mass Indexes')\n",
    "plt.ylabel('Value of Body Mass Indexes');"
   ]
  },
  {
   "cell_type": "markdown",
   "id": "23592bb3",
   "metadata": {},
   "source": [
    "**Calculate and visualize correlations using a head map**"
   ]
  },
  {
   "cell_type": "code",
   "execution_count": 81,
   "id": "3d5e1332",
   "metadata": {},
   "outputs": [
    {
     "name": "stdout",
     "output_type": "stream",
     "text": [
      "          0         1         2         3         4         5         6  \\\n",
      "0  1.000000  0.127911  0.208522  0.082989  0.056027  0.021565 -0.033523   \n",
      "1  0.127911  1.000000  0.218367  0.192991  0.420157  0.230941  0.137060   \n",
      "2  0.208522  0.218367  1.000000  0.192816  0.072517  0.281268 -0.002763   \n",
      "3  0.082989  0.192991  0.192816  1.000000  0.158139  0.542398  0.100966   \n",
      "4  0.056027  0.420157  0.072517  0.158139  1.000000  0.166586  0.098634   \n",
      "5  0.021565  0.230941  0.281268  0.542398  0.166586  1.000000  0.153400   \n",
      "6 -0.033523  0.137060 -0.002763  0.100966  0.098634  0.153400  1.000000   \n",
      "7  0.544341  0.266534  0.324595  0.127872  0.136734  0.025519  0.033561   \n",
      "8  0.221898  0.492928  0.166074  0.215299  0.214411  0.311924  0.173844   \n",
      "\n",
      "          7         8  \n",
      "0  0.544341  0.221898  \n",
      "1  0.266534  0.492928  \n",
      "2  0.324595  0.166074  \n",
      "3  0.127872  0.215299  \n",
      "4  0.136734  0.214411  \n",
      "5  0.025519  0.311924  \n",
      "6  0.033561  0.173844  \n",
      "7  1.000000  0.238356  \n",
      "8  0.238356  1.000000  \n"
     ]
    },
    {
     "data": {
      "image/png": "[encoded data removed]",
      "text/plain": [
       "<Figure size 720x720 with 2 Axes>"
      ]
     },
     "metadata": {
      "needs_background": "light"
     },
     "output_type": "display_data"
    }
   ],
   "source": [
    "plt.figure(figsize=(10,10))\n",
    "corl = df.corr()\n",
    "sns.heatmap(corl, cmap=\"Blues\", annot=True)\n",
    "print(corl)"
   ]
  },
  {
   "cell_type": "markdown",
   "id": "9bd01868",
   "metadata": {},
   "source": [
    "**Scatter plot between Triceps skinfold thickness and Body Mass Index**"
   ]
  },
  {
   "cell_type": "code",
   "execution_count": 82,
   "id": "30e2633d",
   "metadata": {},
   "outputs": [
    {
     "data": {
      "image/png": "[encoded data removed]",
      "text/plain": [
       "<Figure size 720x432 with 1 Axes>"
      ]
     },
     "metadata": {
      "needs_background": "light"
     },
     "output_type": "display_data"
    }
   ],
   "source": [
    "fig, ax = plt.subplots(figsize=(10,6))\n",
    "ax.scatter(df[3], df[5])\n",
    "ax.set_xlabel('Triceps skinfold thickness')\n",
    "ax.set_ylabel('Body mass index')\n",
    "plt.show()"
   ]
  }
 ],
 "metadata": {
  "interpreter": {
   "hash": "b4a335b02c757a3e3738fe0d67756d4f8d079e8df1e91380d29f8f1516a169a8"
  },
  "kernelspec": {
   "display_name": "Python 3 (ipykernel)",
   "language": "python",
   "name": "python3"
  },
  "language_info": {
   "codemirror_mode": {
    "name": "ipython",
    "version": 3
   },
   "file_extension": ".py",
   "mimetype": "text/x-python",
   "name": "python",
   "nbconvert_exporter": "python",
   "pygments_lexer": "ipython3",
   "version": "3.9.7"
  }
 },
 "nbformat": 4,
 "nbformat_minor": 5
}
