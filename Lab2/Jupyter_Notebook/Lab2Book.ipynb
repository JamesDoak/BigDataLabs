{
 "cells": [
  {
   "cell_type": "markdown",
   "id": "baf3e353",
   "metadata": {},
   "source": [
    "# EXERCISE 1\n",
    "A Python function to calculate a **power**"
   ]
  },
  {
   "cell_type": "code",
   "execution_count": 3,
   "id": "4ab889c9",
   "metadata": {},
   "outputs": [
    {
     "name": "stdout",
     "output_type": "stream",
     "text": [
      "8\n",
      "10000\n"
     ]
    }
   ],
   "source": [
    "def power(value, power):\n",
    "    result = 1\n",
    "    for i in range(0, power):\n",
    "        result = result * value\n",
    "    return result\n",
    "\n",
    "print(power(2,3))\n",
    "print(power(10,4))"
   ]
  },
  {
   "cell_type": "markdown",
   "id": "134a0dc9",
   "metadata": {},
   "source": [
    "# TASK 6\n",
    "Part 1 - The **Square** Function takes one parameter and returns the square of the parameter\n"
   ]
  },
  {
   "cell_type": "code",
   "execution_count": 4,
   "id": "529473d1",
   "metadata": {},
   "outputs": [
    {
     "name": "stdout",
     "output_type": "stream",
     "text": [
      "25.0\n"
     ]
    }
   ],
   "source": [
    "def square(value):\n",
    "  return value * value\n",
    "\n",
    "print(square(5.0))"
   ]
  },
  {
   "cell_type": "markdown",
   "id": "6edc42e0",
   "metadata": {},
   "source": [
    "Part 2 - **Distance** takes parameters x1, y1, x2, and y2, and represents the\n",
    "coordinates of two points in a 2D space (x1, y1) and (x2, y2), returning the distance\n",
    "between these points."
   ]
  },
  {
   "cell_type": "code",
   "execution_count": 5,
   "id": "85747fa7",
   "metadata": {},
   "outputs": [
    {
     "name": "stdout",
     "output_type": "stream",
     "text": [
      "1.4142135623730951\n"
     ]
    }
   ],
   "source": [
    "import math\n",
    "\n",
    "def distance(x1, y1, x2, y2):\n",
    "  return math.sqrt(square(x2-x1) + square(y2-y1))\n",
    "\n",
    "print(distance(0,0,1,1))"
   ]
  },
  {
   "cell_type": "markdown",
   "id": "e022945b",
   "metadata": {},
   "source": [
    "Part 3 - Creating a list of integers, returning the highest value in the list using\n",
    "**Maximum**."
   ]
  },
  {
   "cell_type": "code",
   "execution_count": 6,
   "id": "66de7d3f",
   "metadata": {},
   "outputs": [
    {
     "name": "stdout",
     "output_type": "stream",
     "text": [
      "7\n"
     ]
    }
   ],
   "source": [
    "numbers = [4,7,3,2,6]\n",
    "\n",
    "def maximum(list):\n",
    "  result = 0\n",
    "  for i in list:\n",
    "    if i > result:\n",
    "      result = i\n",
    "  return result\n",
    "\n",
    "print(maximum(numbers))"
   ]
  },
  {
   "cell_type": "markdown",
   "id": "0134dc54",
   "metadata": {},
   "source": [
    "Part 4 - Returning the area of a circle (using task 3)"
   ]
  },
  {
   "cell_type": "code",
   "execution_count": 9,
   "id": "84dd1671",
   "metadata": {},
   "outputs": [
    {
     "name": "stdout",
     "output_type": "stream",
     "text": [
      "(1 , 2)\n",
      "(11 , 12)\n",
      "Centre at (11 , 12), radius=5\n",
      "78.5\n",
      "5\n",
      "Centre at (11 , 12), radius=10\n",
      "314.0\n"
     ]
    }
   ],
   "source": [
    "import cpoint\n",
    "import ccircle\n",
    "\n",
    "pt = cpoint.Point(1, 2)\n",
    "print(pt.toString())\n",
    "pt.move(10, 10)\n",
    "print(pt.toString())\n",
    "\n",
    "circ = ccircle.Circle(pt,5)\n",
    "print(circ.toString())\n",
    "print(circ.area())\n",
    "print(circ.radius)\n",
    "\n",
    "circ.radius = 10\n",
    "print(circ.toString())\n",
    "print(circ.area())\n"
   ]
  }
 ],
 "metadata": {
  "kernelspec": {
   "display_name": "Python 3 (ipykernel)",
   "language": "python",
   "name": "python3"
  },
  "language_info": {
   "codemirror_mode": {
    "name": "ipython",
    "version": 3
   },
   "file_extension": ".py",
   "mimetype": "text/x-python",
   "name": "python",
   "nbconvert_exporter": "python",
   "pygments_lexer": "ipython3",
   "version": "3.9.9"
  }
 },
 "nbformat": 4,
 "nbformat_minor": 5
}
