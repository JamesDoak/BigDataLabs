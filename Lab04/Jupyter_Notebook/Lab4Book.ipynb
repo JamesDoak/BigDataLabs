{
 "cells": [
  {
   "cell_type": "markdown",
   "id": "98e7dcb2",
   "metadata": {},
   "source": [
    "# Part 4\n",
    "\n",
    "No coding in this session - all done in local mongoDB server.\n",
    "\n",
    "See LabGuide for more details."
   ]
  }
 ],
 "metadata": {
  "kernelspec": {
   "display_name": "Python 3 (ipykernel)",
   "language": "python",
   "name": "python3"
  },
  "language_info": {
   "codemirror_mode": {
    "name": "ipython",
    "version": 3
   },
   "file_extension": ".py",
   "mimetype": "text/x-python",
   "name": "python",
   "nbconvert_exporter": "python",
   "pygments_lexer": "ipython3",
   "version": "3.9.7"
  }
 },
 "nbformat": 4,
 "nbformat_minor": 5
}
